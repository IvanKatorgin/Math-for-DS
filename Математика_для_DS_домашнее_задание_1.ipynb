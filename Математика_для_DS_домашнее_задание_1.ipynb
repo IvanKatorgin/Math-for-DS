{
  "nbformat": 4,
  "nbformat_minor": 0,
  "metadata": {
    "colab": {
      "provenance": [],
      "include_colab_link": true
    },
    "kernelspec": {
      "name": "python3",
      "display_name": "Python 3"
    },
    "language_info": {
      "name": "python"
    }
  },
  "cells": [
    {
      "cell_type": "markdown",
      "metadata": {
        "id": "view-in-github",
        "colab_type": "text"
      },
      "source": [
        "<a href=\"https://colab.research.google.com/github/IvanKatorgin/math-for-DS/blob/main/%D0%9C%D0%B0%D1%82%D0%B5%D0%BC%D0%B0%D1%82%D0%B8%D0%BA%D0%B0_%D0%B4%D0%BB%D1%8F_DS_%D0%B4%D0%BE%D0%BC%D0%B0%D1%88%D0%BD%D0%B5%D0%B5_%D0%B7%D0%B0%D0%B4%D0%B0%D0%BD%D0%B8%D0%B5_1.ipynb\" target=\"_parent\"><img src=\"https://colab.research.google.com/assets/colab-badge.svg\" alt=\"Open In Colab\"/></a>"
      ]
    },
    {
      "cell_type": "markdown",
      "source": [
        "Курс \"Математика для Data Science\". Домашнее задание 1. Линейная алгебра. Матрицы. Каторгин И.П."
      ],
      "metadata": {
        "id": "h4cGoRIbVJZB"
      }
    },
    {
      "cell_type": "markdown",
      "source": [
        "Уровень 0:"
      ],
      "metadata": {
        "id": "zar_X5FCWVBi"
      }
    },
    {
      "cell_type": "markdown",
      "source": [
        "Задание 1"
      ],
      "metadata": {
        "id": "XeFeO8KlWZiG"
      }
    },
    {
      "cell_type": "markdown",
      "source": [
        "- Создайте матрицу 3 на 3, заполненную числами от 1 до 9\n",
        "- Прибавьте к ней матрицу с единицами на диагонале\n",
        "- Умножьте полученную матрицу на вектор (1, 2, 3)\n",
        "- Вычислить транспонированную матрицу $A^T$ от полученной в результате прибавления матрицы\n",
        "- Посчитайте обратную матрицу к полученной в результате прибавления матрице"
      ],
      "metadata": {
        "id": "G2doYKsSWa-I"
      }
    },
    {
      "cell_type": "code",
      "source": [
        "import numpy as np, sympy as sp, sklearn as skl"
      ],
      "metadata": {
        "id": "TcNLetxBGy9g"
      },
      "execution_count": null,
      "outputs": []
    },
    {
      "cell_type": "markdown",
      "source": [
        "Создайте матрицу 3 на 3, заполненную числами от 1 до 9"
      ],
      "metadata": {
        "id": "8bL2ghp4HGoJ"
      }
    },
    {
      "cell_type": "code",
      "source": [
        "A1 = np.array([[1, 2, 3], [4, 5, 6], [7, 8, 9]])\n",
        "A1"
      ],
      "metadata": {
        "colab": {
          "base_uri": "https://localhost:8080/"
        },
        "id": "QgXXChN4WUm5",
        "outputId": "9ae7e1dc-ef9a-4c3d-ebe2-630a368661de"
      },
      "execution_count": null,
      "outputs": [
        {
          "output_type": "execute_result",
          "data": {
            "text/plain": [
              "array([[1, 2, 3],\n",
              "       [4, 5, 6],\n",
              "       [7, 8, 9]])"
            ]
          },
          "metadata": {},
          "execution_count": 2
        }
      ]
    },
    {
      "cell_type": "markdown",
      "source": [
        "Прибавьте к ней матрицу с единицами на диагонале"
      ],
      "metadata": {
        "id": "4r8wSyCTHcP-"
      }
    },
    {
      "cell_type": "code",
      "source": [
        "A2 = np.diag(np.full(3,1))\n",
        "A2"
      ],
      "metadata": {
        "colab": {
          "base_uri": "https://localhost:8080/"
        },
        "id": "KxAhMUY4HbbA",
        "outputId": "677a8ff1-89db-4d9d-89b5-7a28e1218414"
      },
      "execution_count": null,
      "outputs": [
        {
          "output_type": "execute_result",
          "data": {
            "text/plain": [
              "array([[1, 0, 0],\n",
              "       [0, 1, 0],\n",
              "       [0, 0, 1]])"
            ]
          },
          "metadata": {},
          "execution_count": 3
        }
      ]
    },
    {
      "cell_type": "code",
      "source": [
        "d1 = np.eye(3) # можно и так задать\n",
        "d1"
      ],
      "metadata": {
        "colab": {
          "base_uri": "https://localhost:8080/"
        },
        "id": "aUSX9_agJOvi",
        "outputId": "767f3c6f-4bf9-4259-f30b-d6d1b7b1124e"
      },
      "execution_count": null,
      "outputs": [
        {
          "output_type": "execute_result",
          "data": {
            "text/plain": [
              "array([[1., 0., 0.],\n",
              "       [0., 1., 0.],\n",
              "       [0., 0., 1.]])"
            ]
          },
          "metadata": {},
          "execution_count": 4
        }
      ]
    },
    {
      "cell_type": "code",
      "source": [
        "A3 = A1 + A2\n",
        "A3"
      ],
      "metadata": {
        "colab": {
          "base_uri": "https://localhost:8080/"
        },
        "id": "epuqtt2fICLE",
        "outputId": "4c67c20f-259f-4ae6-fb6b-91b666f26e54"
      },
      "execution_count": null,
      "outputs": [
        {
          "output_type": "execute_result",
          "data": {
            "text/plain": [
              "array([[ 2,  2,  3],\n",
              "       [ 4,  6,  6],\n",
              "       [ 7,  8, 10]])"
            ]
          },
          "metadata": {},
          "execution_count": 5
        }
      ]
    },
    {
      "cell_type": "markdown",
      "source": [
        "Умножьте полученную матрицу на вектор (1, 2, 3)"
      ],
      "metadata": {
        "id": "oiqGulfSHdjV"
      }
    },
    {
      "cell_type": "code",
      "source": [
        "vec = np.array([1, 2, 3])\n",
        "vec"
      ],
      "metadata": {
        "colab": {
          "base_uri": "https://localhost:8080/"
        },
        "id": "5O6f-YM7HgQN",
        "outputId": "0971997d-5763-4a67-b65b-8936725e4ac7"
      },
      "execution_count": null,
      "outputs": [
        {
          "output_type": "execute_result",
          "data": {
            "text/plain": [
              "array([1, 2, 3])"
            ]
          },
          "metadata": {},
          "execution_count": 6
        }
      ]
    },
    {
      "cell_type": "code",
      "source": [
        "A4 = A3 @ vec # вариант 1\n",
        "A4"
      ],
      "metadata": {
        "colab": {
          "base_uri": "https://localhost:8080/"
        },
        "id": "tSn26N09IWBP",
        "outputId": "c02f2c4a-a571-4294-f15d-5a329100d271"
      },
      "execution_count": null,
      "outputs": [
        {
          "output_type": "execute_result",
          "data": {
            "text/plain": [
              "array([15, 34, 53])"
            ]
          },
          "metadata": {},
          "execution_count": 7
        }
      ]
    },
    {
      "cell_type": "code",
      "source": [
        "A5 = A3.dot(vec) # вариант 2\n",
        "A5"
      ],
      "metadata": {
        "colab": {
          "base_uri": "https://localhost:8080/"
        },
        "id": "K2439jUGI18b",
        "outputId": "ef5a90a0-3c47-45c7-92eb-c3ccdf552fcc"
      },
      "execution_count": null,
      "outputs": [
        {
          "output_type": "execute_result",
          "data": {
            "text/plain": [
              "array([15, 34, 53])"
            ]
          },
          "metadata": {},
          "execution_count": 8
        }
      ]
    },
    {
      "cell_type": "markdown",
      "source": [
        "Вычислить транспонированную матрицу  $A^T$  от полученной в результате прибавления матрицы"
      ],
      "metadata": {
        "id": "Mhvmrox3HiHS"
      }
    },
    {
      "cell_type": "code",
      "source": [
        "A6 = np.transpose(A3)\n",
        "A6"
      ],
      "metadata": {
        "colab": {
          "base_uri": "https://localhost:8080/"
        },
        "id": "J773WECtHiym",
        "outputId": "317fe1f7-905b-4db7-e9ea-11a6e7ef72a9"
      },
      "execution_count": null,
      "outputs": [
        {
          "output_type": "execute_result",
          "data": {
            "text/plain": [
              "array([[ 2,  4,  7],\n",
              "       [ 2,  6,  8],\n",
              "       [ 3,  6, 10]])"
            ]
          },
          "metadata": {},
          "execution_count": 9
        }
      ]
    },
    {
      "cell_type": "markdown",
      "source": [
        "Посчитайте обратную матрицу к полученной в результате прибавления матрице"
      ],
      "metadata": {
        "id": "7JM14rstHk1J"
      }
    },
    {
      "cell_type": "code",
      "source": [
        "A7 = np.linalg.inv(A6)\n",
        "A7"
      ],
      "metadata": {
        "colab": {
          "base_uri": "https://localhost:8080/"
        },
        "id": "Cqy14fZBHlpp",
        "outputId": "4bf10838-0f8c-479d-ffd8-e18144cf5619"
      },
      "execution_count": null,
      "outputs": [
        {
          "output_type": "execute_result",
          "data": {
            "text/plain": [
              "array([[-6. , -1. ,  5. ],\n",
              "       [-2. ,  0.5,  1. ],\n",
              "       [ 3. ,  0. , -2. ]])"
            ]
          },
          "metadata": {},
          "execution_count": 10
        }
      ]
    },
    {
      "cell_type": "code",
      "source": [
        "# проверка\n",
        "A6 @ A7"
      ],
      "metadata": {
        "colab": {
          "base_uri": "https://localhost:8080/"
        },
        "id": "ORO7w8p3KV-v",
        "outputId": "1eaeea52-1e13-403d-a2c1-7686ec3b60da"
      },
      "execution_count": null,
      "outputs": [
        {
          "output_type": "execute_result",
          "data": {
            "text/plain": [
              "array([[ 1.00000000e+00,  0.00000000e+00,  0.00000000e+00],\n",
              "       [ 0.00000000e+00,  1.00000000e+00,  0.00000000e+00],\n",
              "       [-3.55271368e-15,  0.00000000e+00,  1.00000000e+00]])"
            ]
          },
          "metadata": {},
          "execution_count": 11
        }
      ]
    },
    {
      "cell_type": "markdown",
      "source": [
        "Уровень 1:"
      ],
      "metadata": {
        "id": "Rk_vc6-mWprP"
      }
    },
    {
      "cell_type": "markdown",
      "source": [
        "Задание 2"
      ],
      "metadata": {
        "id": "MVDjsHoAWrfw"
      }
    },
    {
      "cell_type": "markdown",
      "source": [
        "Найдите собственные значения и собственные вектора матрицы:\n",
        "\n",
        "m = np.array([[2, 2],\n",
        "              [1, 3]])\n",
        "\n",
        "print(m)"
      ],
      "metadata": {
        "id": "4kxyn36PWs-_"
      }
    },
    {
      "cell_type": "code",
      "execution_count": null,
      "metadata": {
        "colab": {
          "base_uri": "https://localhost:8080/"
        },
        "id": "DI8dVfeBTb5O",
        "outputId": "ceff33de-9c92-4344-d5af-f9a8d4683c8d"
      },
      "outputs": [
        {
          "output_type": "stream",
          "name": "stdout",
          "text": [
            "[[2 2]\n",
            " [1 3]]\n"
          ]
        }
      ],
      "source": [
        "m = np.array([[2, 2], [1, 3]])\n",
        "print(m)"
      ]
    },
    {
      "cell_type": "code",
      "source": [
        "# собственное значение\n",
        "np.linalg.eigvals(m)"
      ],
      "metadata": {
        "colab": {
          "base_uri": "https://localhost:8080/"
        },
        "id": "fyI9_SWAKsGG",
        "outputId": "57f02ce0-c045-426e-f6bd-384567ad6856"
      },
      "execution_count": null,
      "outputs": [
        {
          "output_type": "execute_result",
          "data": {
            "text/plain": [
              "array([1., 4.])"
            ]
          },
          "metadata": {},
          "execution_count": 13
        }
      ]
    },
    {
      "cell_type": "code",
      "source": [
        "# собственное значение и собственный вектор\n",
        "res = np.linalg.eig(m)\n",
        "res"
      ],
      "metadata": {
        "colab": {
          "base_uri": "https://localhost:8080/"
        },
        "id": "psH5gSg_K9Q4",
        "outputId": "de7a7851-db08-4eaf-88d0-5b58e34e937d"
      },
      "execution_count": null,
      "outputs": [
        {
          "output_type": "execute_result",
          "data": {
            "text/plain": [
              "EigResult(eigenvalues=array([1., 4.]), eigenvectors=array([[-0.89442719, -0.70710678],\n",
              "       [ 0.4472136 , -0.70710678]]))"
            ]
          },
          "metadata": {},
          "execution_count": 14
        }
      ]
    },
    {
      "cell_type": "code",
      "source": [
        "res2 = res[1]\n",
        "res2"
      ],
      "metadata": {
        "colab": {
          "base_uri": "https://localhost:8080/"
        },
        "id": "m83oa2i1LIy3",
        "outputId": "0a1e2e8e-72f8-4c82-afd0-61bdd52836ee"
      },
      "execution_count": null,
      "outputs": [
        {
          "output_type": "execute_result",
          "data": {
            "text/plain": [
              "array([[-0.89442719, -0.70710678],\n",
              "       [ 0.4472136 , -0.70710678]])"
            ]
          },
          "metadata": {},
          "execution_count": 15
        }
      ]
    },
    {
      "cell_type": "code",
      "source": [
        "res3 = np.transpose(res2)"
      ],
      "metadata": {
        "id": "xILSCaEuLYKJ"
      },
      "execution_count": null,
      "outputs": []
    },
    {
      "cell_type": "code",
      "source": [
        "res3[0]"
      ],
      "metadata": {
        "colab": {
          "base_uri": "https://localhost:8080/"
        },
        "id": "vi2AkvXALiql",
        "outputId": "cb55afe3-90a8-4a23-b48d-fbbc1784c2d0"
      },
      "execution_count": null,
      "outputs": [
        {
          "output_type": "execute_result",
          "data": {
            "text/plain": [
              "array([-0.89442719,  0.4472136 ])"
            ]
          },
          "metadata": {},
          "execution_count": 17
        }
      ]
    },
    {
      "cell_type": "code",
      "source": [
        "res3[1]"
      ],
      "metadata": {
        "id": "B1V_-xjCL2bm",
        "colab": {
          "base_uri": "https://localhost:8080/"
        },
        "outputId": "b42f1016-9717-4f67-8eeb-ae673dfac0eb"
      },
      "execution_count": null,
      "outputs": [
        {
          "output_type": "execute_result",
          "data": {
            "text/plain": [
              "array([-0.70710678, -0.70710678])"
            ]
          },
          "metadata": {},
          "execution_count": 18
        }
      ]
    },
    {
      "cell_type": "markdown",
      "source": [
        "Задание 3"
      ],
      "metadata": {
        "id": "QDF5DXIlXG6X"
      }
    },
    {
      "cell_type": "markdown",
      "source": [
        "Придумайте матрицу, у которой определитель = 1, и все элементы не равны 0.\n",
        "\n",
        "P.S. Матрица должна быть ненулевой и размерностью не менее 2!"
      ],
      "metadata": {
        "id": "bSKIbQvyXHss"
      }
    },
    {
      "cell_type": "code",
      "source": [
        "ad - bc = 1\n",
        "ad > bc на 1"
      ],
      "metadata": {
        "id": "rJXhFx0wQRsd"
      },
      "execution_count": null,
      "outputs": []
    },
    {
      "cell_type": "code",
      "source": [
        "n = np.array([[4, 3], [1, 1]])\n",
        "print(n)"
      ],
      "metadata": {
        "id": "xljtbdpCMZnR",
        "colab": {
          "base_uri": "https://localhost:8080/"
        },
        "outputId": "68635726-37eb-49c3-9342-5a9c494a0e8f"
      },
      "execution_count": null,
      "outputs": [
        {
          "output_type": "stream",
          "name": "stdout",
          "text": [
            "[[4 3]\n",
            " [1 1]]\n"
          ]
        }
      ]
    },
    {
      "cell_type": "code",
      "source": [
        "# вычисляем определитель\n",
        "np.linalg.det(n)"
      ],
      "metadata": {
        "colab": {
          "base_uri": "https://localhost:8080/"
        },
        "id": "YWm_cv4wNmxq",
        "outputId": "a5fd27e4-b36c-4916-b7ca-e9f368876685"
      },
      "execution_count": null,
      "outputs": [
        {
          "output_type": "execute_result",
          "data": {
            "text/plain": [
              "1.0"
            ]
          },
          "metadata": {},
          "execution_count": 91
        }
      ]
    }
  ]
}