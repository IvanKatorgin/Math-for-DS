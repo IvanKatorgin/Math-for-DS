{
  "nbformat": 4,
  "nbformat_minor": 0,
  "metadata": {
    "colab": {
      "provenance": [],
      "include_colab_link": true
    },
    "kernelspec": {
      "name": "python3",
      "display_name": "Python 3"
    },
    "language_info": {
      "name": "python"
    }
  },
  "cells": [
    {
      "cell_type": "markdown",
      "metadata": {
        "id": "view-in-github",
        "colab_type": "text"
      },
      "source": [
        "<a href=\"https://colab.research.google.com/github/IvanKatorgin/math-for-DS/blob/main/%D0%9C%D0%B0%D1%82%D0%B5%D0%BC%D0%B0%D1%82%D0%B8%D0%BA%D0%B0_%D0%B4%D0%BB%D1%8F_DS_%D0%98%D1%82%D0%BE%D0%B3%D0%BE%D0%B2%D0%B0%D1%8F_%D1%80%D0%B0%D0%B1%D0%BE%D1%82%D0%B0.ipynb\" target=\"_parent\"><img src=\"https://colab.research.google.com/assets/colab-badge.svg\" alt=\"Open In Colab\"/></a>"
      ]
    },
    {
      "cell_type": "markdown",
      "source": [
        "Курс \"Математика для Data Science\". Итоговая работа. Каторгин И.П."
      ],
      "metadata": {
        "id": "S9aDtFZVB81M"
      }
    },
    {
      "cell_type": "code",
      "execution_count": null,
      "metadata": {
        "id": "oYEKtWLcBT2r"
      },
      "outputs": [],
      "source": [
        "import matplotlib.pyplot as plt\n",
        "import numpy as np\n",
        "\n",
        "from scipy.optimize import differential_evolution\n",
        "from scipy.optimize import minimize\n",
        "from scipy.stats import norm\n",
        "%matplotlib inline"
      ]
    },
    {
      "cell_type": "markdown",
      "metadata": {
        "id": "VZFf_auXisJd"
      },
      "source": [
        "## Задание 1"
      ]
    },
    {
      "cell_type": "markdown",
      "metadata": {
        "id": "39rGnTIojFlV"
      },
      "source": [
        "\n",
        "Вычислите производную функции:\n",
        "\n",
        "$tg^2(sin(x) + cos(2x+3))$\n",
        "\n",
        "в точке $x_0=1$\n"
      ]
    },
    {
      "cell_type": "code",
      "source": [
        "### YOUR CODE HERE"
      ],
      "metadata": {
        "id": "9NqehLwAL-p6"
      },
      "execution_count": null,
      "outputs": []
    },
    {
      "cell_type": "code",
      "source": [
        "from sympy import *"
      ],
      "metadata": {
        "id": "Tuob33NREfW0"
      },
      "execution_count": null,
      "outputs": []
    },
    {
      "cell_type": "code",
      "source": [
        "x = Symbol('x')"
      ],
      "metadata": {
        "id": "pSy5p0OiD1Lb"
      },
      "execution_count": null,
      "outputs": []
    },
    {
      "cell_type": "code",
      "source": [
        "y = tan(sin(x) + cos(2*x + 3))**2"
      ],
      "metadata": {
        "id": "KPgvPC8CDiej"
      },
      "execution_count": null,
      "outputs": []
    },
    {
      "cell_type": "code",
      "source": [
        "yprime = y.diff(x)"
      ],
      "metadata": {
        "id": "LWe0hYtkECw2"
      },
      "execution_count": null,
      "outputs": []
    },
    {
      "cell_type": "code",
      "source": [
        "yprime"
      ],
      "metadata": {
        "colab": {
          "base_uri": "https://localhost:8080/",
          "height": 39
        },
        "id": "N8XXReUdGQow",
        "outputId": "f9e343d5-6b73-4597-fad2-4c5b3a70f9c8"
      },
      "execution_count": null,
      "outputs": [
        {
          "output_type": "execute_result",
          "data": {
            "text/plain": [
              "2*(-2*sin(2*x + 3) + cos(x))*(tan(sin(x) + cos(2*x + 3))**2 + 1)*tan(sin(x) + cos(2*x + 3))"
            ],
            "text/latex": "$\\displaystyle 2 \\left(- 2 \\sin{\\left(2 x + 3 \\right)} + \\cos{\\left(x \\right)}\\right) \\left(\\tan^{2}{\\left(\\sin{\\left(x \\right)} + \\cos{\\left(2 x + 3 \\right)} \\right)} + 1\\right) \\tan{\\left(\\sin{\\left(x \\right)} + \\cos{\\left(2 x + 3 \\right)} \\right)}$"
          },
          "metadata": {},
          "execution_count": 6
        }
      ]
    },
    {
      "cell_type": "code",
      "source": [
        "yprime.subs(x, 1).evalf()"
      ],
      "metadata": {
        "colab": {
          "base_uri": "https://localhost:8080/",
          "height": 37
        },
        "id": "gwrQhDziFbod",
        "outputId": "ecb7983c-41f9-48ea-9c8b-315ecb4108fa"
      },
      "execution_count": null,
      "outputs": [
        {
          "output_type": "execute_result",
          "data": {
            "text/plain": [
              "55.3859176353379"
            ],
            "text/latex": "$\\displaystyle 55.3859176353379$"
          },
          "metadata": {},
          "execution_count": 7
        }
      ]
    },
    {
      "cell_type": "code",
      "source": [
        "# можно еще и так\n",
        "f = lambdify(x, yprime, 'numpy')\n",
        "f(np.ones(1))"
      ],
      "metadata": {
        "colab": {
          "base_uri": "https://localhost:8080/"
        },
        "id": "l6z-xLrVGYqr",
        "outputId": "90321378-0aae-472f-dcbb-4ce402bae288"
      },
      "execution_count": null,
      "outputs": [
        {
          "output_type": "execute_result",
          "data": {
            "text/plain": [
              "array([55.38591764])"
            ]
          },
          "metadata": {},
          "execution_count": 8
        }
      ]
    },
    {
      "cell_type": "markdown",
      "source": [
        "## Задание 2"
      ],
      "metadata": {
        "id": "P0dJuDCHlitb"
      }
    },
    {
      "cell_type": "markdown",
      "source": [
        "Дан объект в $2D$ пространстве"
      ],
      "metadata": {
        "id": "9t_CAEu4ljXX"
      }
    },
    {
      "cell_type": "code",
      "source": [
        "import numpy as np\n",
        "import matplotlib.pyplot as plt\n",
        "\n",
        "A = [\n",
        "[-100, -100, 1],\n",
        "[0, 100, 1],\n",
        "[100, -100, 1],\n",
        "[-100, -100, 1]\n",
        "]\n",
        "\n",
        "A = np.array(A)\n",
        "\n",
        "x = A[:,0]\n",
        "y = A[:,1]\n",
        "plt.plot(x, y)\n",
        "plt.ylim([-200, 200])\n",
        "plt.xlim([-200, 200])"
      ],
      "metadata": {
        "colab": {
          "base_uri": "https://localhost:8080/",
          "height": 453
        },
        "id": "jOSkPagdljlG",
        "outputId": "c12ac3f9-cfc6-4171-ed02-6074b2a418d6"
      },
      "execution_count": null,
      "outputs": [
        {
          "output_type": "execute_result",
          "data": {
            "text/plain": [
              "(-200.0, 200.0)"
            ]
          },
          "metadata": {},
          "execution_count": 9
        },
        {
          "output_type": "display_data",
          "data": {
            "text/plain": [
              "<Figure size 640x480 with 1 Axes>"
            ],
            "image/png": "[encoded data removed]"
          },
          "metadata": {}
        }
      ]
    },
    {
      "cell_type": "markdown",
      "source": [
        "При помощи матричных операций выполните:\n",
        "- Масштабирование и смещение объекта (применить 2 матрицы трансформаций). Масштабирование на (0.5, 1.2) и смещение на (200, 300)\n"
      ],
      "metadata": {
        "id": "ALnwba_5lkFh"
      }
    },
    {
      "cell_type": "code",
      "source": [
        "### YOUR CODE HERE"
      ],
      "metadata": {
        "id": "k1J7lbkRlkON"
      },
      "execution_count": null,
      "outputs": []
    },
    {
      "cell_type": "code",
      "source": [
        "# Масштабирование на (0.5, 1.2):\n",
        "B = np.array([[0.5, 0, 0], [0, 1.2, 0], [0, 0, 1]])"
      ],
      "metadata": {
        "id": "4duh8wzcvZIh"
      },
      "execution_count": null,
      "outputs": []
    },
    {
      "cell_type": "code",
      "source": [
        "res = np.dot(B, A.T)\n",
        "res = res.T\n",
        "\n",
        "res = np.array(res)\n",
        "\n",
        "x = res[:,0]\n",
        "y = res[:,1]\n",
        "plt.plot(x, y)\n",
        "#plt.ylim([-200, 200])\n",
        "#plt.xlim([-200, 200])\n",
        "plt.ylim([-200, 500])\n",
        "plt.xlim([-200, 300])"
      ],
      "metadata": {
        "colab": {
          "base_uri": "https://localhost:8080/",
          "height": 453
        },
        "id": "CUoPy_KFxtTj",
        "outputId": "028048a6-6698-4418-b274-7c00ab18a388"
      },
      "execution_count": null,
      "outputs": [
        {
          "output_type": "execute_result",
          "data": {
            "text/plain": [
              "(-200.0, 300.0)"
            ]
          },
          "metadata": {},
          "execution_count": 11
        },
        {
          "output_type": "display_data",
          "data": {
            "text/plain": [
              "<Figure size 640x480 with 1 Axes>"
            ],
            "image/png": "[encoded data removed]"
          },
          "metadata": {}
        }
      ]
    },
    {
      "cell_type": "code",
      "source": [
        "#смещение на (200, 300):\n",
        "s = np.array([[200, 300, 0], [200, 300, 0], [200, 300, 0], [200, 300, 0]])"
      ],
      "metadata": {
        "id": "KucU0SnK0uqx"
      },
      "execution_count": null,
      "outputs": []
    },
    {
      "cell_type": "code",
      "source": [
        "s_ = res + s\n",
        "s_"
      ],
      "metadata": {
        "colab": {
          "base_uri": "https://localhost:8080/"
        },
        "id": "NIij9Uij8rvy",
        "outputId": "16b4acde-3dab-4297-dfa5-205822793835"
      },
      "execution_count": null,
      "outputs": [
        {
          "output_type": "execute_result",
          "data": {
            "text/plain": [
              "array([[150., 180.,   1.],\n",
              "       [200., 420.,   1.],\n",
              "       [250., 180.,   1.],\n",
              "       [150., 180.,   1.]])"
            ]
          },
          "metadata": {},
          "execution_count": 13
        }
      ]
    },
    {
      "cell_type": "code",
      "source": [
        "x = s_[:,0]\n",
        "y = s_[:,1]\n",
        "plt.plot(x, y)\n",
        "plt.ylim([-200, 500])\n",
        "plt.xlim([-200, 300])"
      ],
      "metadata": {
        "colab": {
          "base_uri": "https://localhost:8080/",
          "height": 453
        },
        "id": "046uIQHd2-gN",
        "outputId": "1709a5f4-ab88-4165-c81e-19e031c4cf18"
      },
      "execution_count": null,
      "outputs": [
        {
          "output_type": "execute_result",
          "data": {
            "text/plain": [
              "(-200.0, 300.0)"
            ]
          },
          "metadata": {},
          "execution_count": 14
        },
        {
          "output_type": "display_data",
          "data": {
            "text/plain": [
              "<Figure size 640x480 with 1 Axes>"
            ],
            "image/png": "[encoded data removed]"
          },
          "metadata": {}
        }
      ]
    },
    {
      "cell_type": "markdown",
      "metadata": {
        "id": "QRJEo5ydjFjG"
      },
      "source": [
        "## Задание 3\n"
      ]
    },
    {
      "cell_type": "markdown",
      "source": [
        "Найдите собственные значения и собственные вектора матрицы:"
      ],
      "metadata": {
        "id": "j1IOvxF8L1v4"
      }
    },
    {
      "cell_type": "code",
      "source": [
        "m = np.array([[1, 4],\n",
        "              [1, 1]])\n",
        "print(m)"
      ],
      "metadata": {
        "id": "6aq0Aa8NL4gW",
        "colab": {
          "base_uri": "https://localhost:8080/"
        },
        "outputId": "b75ff5b0-1048-4b68-9cb6-6e5372fb6eef"
      },
      "execution_count": null,
      "outputs": [
        {
          "output_type": "stream",
          "name": "stdout",
          "text": [
            "[[1 4]\n",
            " [1 1]]\n"
          ]
        }
      ]
    },
    {
      "cell_type": "code",
      "source": [
        "### YOUR CODE HERE"
      ],
      "metadata": {
        "id": "UOAdFwznMdY5"
      },
      "execution_count": null,
      "outputs": []
    },
    {
      "cell_type": "code",
      "source": [
        "# собственное значение и собственный вектор\n",
        "res = np.linalg.eig(m)\n",
        "res"
      ],
      "metadata": {
        "colab": {
          "base_uri": "https://localhost:8080/"
        },
        "id": "1ARtzzZr3IO0",
        "outputId": "c612bcbe-65c5-4d67-9f14-b6fe9a20bf75"
      },
      "execution_count": null,
      "outputs": [
        {
          "output_type": "execute_result",
          "data": {
            "text/plain": [
              "EigResult(eigenvalues=array([ 3., -1.]), eigenvectors=array([[ 0.89442719, -0.89442719],\n",
              "       [ 0.4472136 ,  0.4472136 ]]))"
            ]
          },
          "metadata": {},
          "execution_count": 16
        }
      ]
    },
    {
      "cell_type": "code",
      "source": [
        "# собственное значение\n",
        "res_1 = res[0]\n",
        "res_1"
      ],
      "metadata": {
        "colab": {
          "base_uri": "https://localhost:8080/"
        },
        "id": "CuMGXiQX3L8N",
        "outputId": "c5bd6a79-c6b3-491a-bebb-1e02217a0980"
      },
      "execution_count": null,
      "outputs": [
        {
          "output_type": "execute_result",
          "data": {
            "text/plain": [
              "array([ 3., -1.])"
            ]
          },
          "metadata": {},
          "execution_count": 17
        }
      ]
    },
    {
      "cell_type": "code",
      "source": [
        "# собственный вектор\n",
        "res_2 = res[1]\n",
        "res_2"
      ],
      "metadata": {
        "colab": {
          "base_uri": "https://localhost:8080/"
        },
        "id": "YvzRXQrp3QVe",
        "outputId": "fa132620-4fae-4a16-f648-150b7f893ef6"
      },
      "execution_count": null,
      "outputs": [
        {
          "output_type": "execute_result",
          "data": {
            "text/plain": [
              "array([[ 0.89442719, -0.89442719],\n",
              "       [ 0.4472136 ,  0.4472136 ]])"
            ]
          },
          "metadata": {},
          "execution_count": 18
        }
      ]
    },
    {
      "cell_type": "code",
      "source": [
        "res_3 = np.transpose(res_2)\n",
        "res_3"
      ],
      "metadata": {
        "colab": {
          "base_uri": "https://localhost:8080/"
        },
        "id": "fkjXrkJ74-1T",
        "outputId": "d4d91e2e-3706-423d-9aae-7b573be7dfee"
      },
      "execution_count": null,
      "outputs": [
        {
          "output_type": "execute_result",
          "data": {
            "text/plain": [
              "array([[ 0.89442719,  0.4472136 ],\n",
              "       [-0.89442719,  0.4472136 ]])"
            ]
          },
          "metadata": {},
          "execution_count": 19
        }
      ]
    },
    {
      "cell_type": "code",
      "source": [
        "res_3[0]"
      ],
      "metadata": {
        "colab": {
          "base_uri": "https://localhost:8080/"
        },
        "id": "F7jP_pKX5Ngb",
        "outputId": "e2f81a11-ee79-4be8-b8b6-0825b2a5302e"
      },
      "execution_count": null,
      "outputs": [
        {
          "output_type": "execute_result",
          "data": {
            "text/plain": [
              "array([0.89442719, 0.4472136 ])"
            ]
          },
          "metadata": {},
          "execution_count": 20
        }
      ]
    },
    {
      "cell_type": "code",
      "source": [
        "res_3[1]"
      ],
      "metadata": {
        "colab": {
          "base_uri": "https://localhost:8080/"
        },
        "id": "7-UX5pfM5QSz",
        "outputId": "1a35e493-227e-40fe-b05b-67596a47e77c"
      },
      "execution_count": null,
      "outputs": [
        {
          "output_type": "execute_result",
          "data": {
            "text/plain": [
              "array([-0.89442719,  0.4472136 ])"
            ]
          },
          "metadata": {},
          "execution_count": 21
        }
      ]
    },
    {
      "cell_type": "markdown",
      "metadata": {
        "id": "T1y3_xiwjFpC"
      },
      "source": [
        "## Задание 4\n"
      ]
    },
    {
      "cell_type": "markdown",
      "source": [
        "Дана функция с неизвестными параметрами a и b, вам также известны значения функции `fx` в точках `x`.\n",
        "\n",
        "Найдите оптимальные параметры a, b, минимизирующие абсолютную ошибку `error`.\n"
      ],
      "metadata": {
        "id": "iJnhteBQMScA"
      }
    },
    {
      "cell_type": "code",
      "source": [
        "def f(x, a, b):\n",
        "    return np.e**a * np.sin(b*x) + x"
      ],
      "metadata": {
        "id": "eCUHicv7MSix"
      },
      "execution_count": null,
      "outputs": []
    },
    {
      "cell_type": "code",
      "source": [
        "x = np.array([0.        , 0.26315789, 0.52631579, 0.78947368, 1.05263158,\n",
        "              1.31578947, 1.57894737, 1.84210526, 2.10526316, 2.36842105,\n",
        "              2.63157895, 2.89473684, 3.15789474, 3.42105263, 3.68421053,\n",
        "              3.94736842, 4.21052632, 4.47368421, 4.73684211, 5.        ])\n",
        "\n",
        "fx = np.array([  0.        , -12.01819092, -18.90968634, -17.68786571,\n",
        "                -8.7529108 ,   4.27524517,  16.06801336,  21.81250213,\n",
        "                19.22059845,   9.48411207,  -3.22273056, -13.48576488,\n",
        "               -16.91096359, -11.95866834,  -0.58630088,  12.56873816,\n",
        "                22.12489421,  24.20292139,  18.04522521,   6.33211092])"
      ],
      "metadata": {
        "id": "99KsJtMSMSk7"
      },
      "execution_count": null,
      "outputs": []
    },
    {
      "cell_type": "code",
      "source": [
        "plt.plot(x, fx)\n",
        "plt.show()"
      ],
      "metadata": {
        "id": "ZVBTEvLlMSnf",
        "colab": {
          "base_uri": "https://localhost:8080/",
          "height": 430
        },
        "outputId": "fc5ee26c-df09-4406-9eb5-d9e54ebe2c6b"
      },
      "execution_count": null,
      "outputs": [
        {
          "output_type": "display_data",
          "data": {
            "text/plain": [
              "<Figure size 640x480 with 1 Axes>"
            ],
            "image/png": "[encoded data removed]"
          },
          "metadata": {}
        }
      ]
    },
    {
      "cell_type": "code",
      "source": [
        "def error(params):\n",
        "    return np.sum(np.abs(fx - f(x, params[0], params[1])))"
      ],
      "metadata": {
        "id": "S_hiJIdNMSpt"
      },
      "execution_count": null,
      "outputs": []
    },
    {
      "cell_type": "code",
      "source": [
        "### YOUR CODE HERE"
      ],
      "metadata": {
        "id": "oJTy6SZQMcpG"
      },
      "execution_count": null,
      "outputs": []
    },
    {
      "cell_type": "code",
      "source": [
        "# Границы для параметров\n",
        "bounds = [(-10, 10), (-10, 10)]"
      ],
      "metadata": {
        "id": "Lj8V76auwD-1"
      },
      "execution_count": null,
      "outputs": []
    },
    {
      "cell_type": "code",
      "source": [
        "# Начальные значения параметров\n",
        "initial_guess = [0, 0]"
      ],
      "metadata": {
        "id": "Z5shG18xwX7w"
      },
      "execution_count": null,
      "outputs": []
    },
    {
      "cell_type": "code",
      "source": [
        "# Минимизация функции ошибки\n",
        "result = differential_evolution(error, bounds)"
      ],
      "metadata": {
        "id": "A1ypfaF3wbaT"
      },
      "execution_count": null,
      "outputs": []
    },
    {
      "cell_type": "code",
      "source": [
        "# Оптимальные параметры\n",
        "optimal_params = result.x\n",
        "\n",
        "print(\"Оптимальные параметры a и b:\", optimal_params)"
      ],
      "metadata": {
        "colab": {
          "base_uri": "https://localhost:8080/"
        },
        "id": "zDJlMKw5wfaR",
        "outputId": "15a2588d-5fbf-4754-a90c-5ed4de9af3e8"
      },
      "execution_count": null,
      "outputs": [
        {
          "output_type": "stream",
          "name": "stdout",
          "text": [
            "Оптимальные параметры a и b: [ 3.  -2.5]\n"
          ]
        }
      ]
    },
    {
      "cell_type": "markdown",
      "source": [
        "## Задание 5\n",
        "\n"
      ],
      "metadata": {
        "id": "w994ooEPPv5W"
      }
    },
    {
      "cell_type": "markdown",
      "metadata": {
        "id": "ABMPXsuhisMO"
      },
      "source": [
        "Дана матрица рейтингов фильмов (строки - пользователи (10 человек), столбцы - фильмы (15 фильмов))"
      ]
    },
    {
      "cell_type": "code",
      "metadata": {
        "id": "D4_Vshevi-4P"
      },
      "source": [
        "raitings = np.array([[ 4,  4,  9,  4,  1,  6, 10,  7,  9,  6,  9,  2,  8,  6,  6],\n",
        "                     [ 9,  2,  5, 10,  7,  8, 10,  5,  6,  2,  1,  6,  8,  9,  7],\n",
        "                     [ 1,  6,  8,  8,  4,  9,  3,  8, 10,  5,  2,  6,  8,  1,  6],\n",
        "                     [ 6,  1,  9,  7,  7,  9,  2,  3,  5,  1,  6,  6,  3,  2,  7],\n",
        "                     [ 3,  7,  3,  5,  7,  9,  9,  6,  2,  9,  1,  2,  8, 10,  6],\n",
        "                     [ 8,  3,  7,  3,  8,  6,  1,  8,  8,  6,  1,  9,  4, 10,  1],\n",
        "                     [ 9,  8,  4,  8,  8, 10,  6,  1,  1,  2,  9,  5,  2,  7,  2],\n",
        "                     [ 4,  1,  6,  4,  3, 10,  4,  4,  2,  8,  7,  9,  3,  8,  3],\n",
        "                     [ 2,  7,  7,  6, 10,  6,  8,  9,  8,  6, 10,  1,  7, 10,  4],\n",
        "                     [ 5, 10,  8,  8,  9,  7,  2,  9,  9, 10,  8,  8,  8,  6, 10]])"
      ],
      "execution_count": null,
      "outputs": []
    },
    {
      "cell_type": "markdown",
      "metadata": {
        "id": "FuYpBPsTjBVa"
      },
      "source": [
        "Необходимо найти наиболее похожего пользователя по косинусной метрике для каждого из пользователей (ответ: 10 пар вида (x, y), где y - наиболее похожий пользователь на пользователя x)."
      ]
    },
    {
      "cell_type": "code",
      "source": [
        "### YOUR CODE HERE"
      ],
      "metadata": {
        "id": "dY3dBHLbKY_I"
      },
      "execution_count": null,
      "outputs": []
    },
    {
      "cell_type": "code",
      "source": [
        "from sklearn.metrics.pairwise import cosine_similarity"
      ],
      "metadata": {
        "id": "mEf-sVz_xDqc"
      },
      "execution_count": null,
      "outputs": []
    },
    {
      "cell_type": "code",
      "source": [
        "# Вычисляем матрицу косинусной близости\n",
        "similarity_matrix = cosine_similarity(raitings)\n",
        "similarity_matrix"
      ],
      "metadata": {
        "colab": {
          "base_uri": "https://localhost:8080/"
        },
        "id": "2okgShnZxFQS",
        "outputId": "fe6e421d-79d8-4055-c0da-7507907beee5"
      },
      "execution_count": null,
      "outputs": [
        {
          "output_type": "execute_result",
          "data": {
            "text/plain": [
              "array([[1.        , 0.82602919, 0.84921529, 0.78340116, 0.81917632,\n",
              "        0.74118548, 0.72735828, 0.80967522, 0.91065982, 0.86010776],\n",
              "       [0.82602919, 1.        , 0.81234325, 0.84635337, 0.87138052,\n",
              "        0.82713107, 0.82629684, 0.80026003, 0.82526308, 0.81968127],\n",
              "       [0.84921529, 0.81234325, 1.        , 0.84669374, 0.78394299,\n",
              "        0.79097985, 0.67616223, 0.76289552, 0.82112077, 0.91873051],\n",
              "       [0.78340116, 0.84635337, 0.84669374, 1.        , 0.69153409,\n",
              "        0.78665792, 0.83274211, 0.82934667, 0.7770666 , 0.8588687 ],\n",
              "       [0.81917632, 0.87138052, 0.78394299, 0.69153409, 1.        ,\n",
              "        0.7764434 , 0.78200468, 0.81236869, 0.87948477, 0.84574789],\n",
              "       [0.74118548, 0.82713107, 0.79097985, 0.78665792, 0.7764434 ,\n",
              "        1.        , 0.74011801, 0.84451685, 0.80622876, 0.85514908],\n",
              "       [0.72735828, 0.82629684, 0.67616223, 0.83274211, 0.78200468,\n",
              "        0.74011801, 1.        , 0.82669174, 0.81130044, 0.79154718],\n",
              "       [0.80967522, 0.80026003, 0.76289552, 0.82934667, 0.81236869,\n",
              "        0.84451685, 0.82669174, 1.        , 0.7981276 , 0.83682229],\n",
              "       [0.91065982, 0.82526308, 0.82112077, 0.7770666 , 0.87948477,\n",
              "        0.80622876, 0.81130044, 0.7981276 , 1.        , 0.90093797],\n",
              "       [0.86010776, 0.81968127, 0.91873051, 0.8588687 , 0.84574789,\n",
              "        0.85514908, 0.79154718, 0.83682229, 0.90093797, 1.        ]])"
            ]
          },
          "metadata": {},
          "execution_count": 33
        }
      ]
    },
    {
      "cell_type": "code",
      "source": [
        "# Для каждого пользователя находим наиболее похожего\n",
        "similar_users = []\n",
        "for i in range(len(similarity_matrix)):\n",
        "    # Исключаем самого пользователя из списка похожих\n",
        "    similarity_row = similarity_matrix[i].copy()\n",
        "    similarity_row[i] = -1\n",
        "    most_similar_user = np.argmax(similarity_row)\n",
        "    similar_users.append((i, most_similar_user))\n",
        "\n",
        "print(similar_users)"
      ],
      "metadata": {
        "colab": {
          "base_uri": "https://localhost:8080/"
        },
        "id": "bG5MSYifxR40",
        "outputId": "a27ee625-7410-4873-b8d6-74bfc7bfa41c"
      },
      "execution_count": null,
      "outputs": [
        {
          "output_type": "stream",
          "name": "stdout",
          "text": [
            "[(0, 8), (1, 4), (2, 9), (3, 9), (4, 8), (5, 9), (6, 3), (7, 5), (8, 0), (9, 2)]\n"
          ]
        }
      ]
    }
  ]
}